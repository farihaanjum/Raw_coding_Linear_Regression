{
 "cells": [
  {
   "cell_type": "code",
   "execution_count": 18,
   "id": "83f2e8dc",
   "metadata": {},
   "outputs": [],
   "source": [
    "import matplotlib.pyplot as plt\n",
    "import pandas as pd\n",
    "import numpy as np"
   ]
  },
  {
   "cell_type": "code",
   "execution_count": 19,
   "id": "d00e6998",
   "metadata": {},
   "outputs": [],
   "source": [
    "y= np.array([2.1,2.9,3.2,4.1,4.9])\n",
    "x = np.array([1980,1985,1990,1995,2000])\n",
    "n = np.size(x)"
   ]
  },
  {
   "cell_type": "code",
   "execution_count": 20,
   "id": "d979f7d4",
   "metadata": {},
   "outputs": [
    {
     "data": {
      "image/png": "[encoded data removed]",
      "text/plain": [
       "<Figure size 432x288 with 1 Axes>"
      ]
     },
     "metadata": {
      "needs_background": "light"
     },
     "output_type": "display_data"
    }
   ],
   "source": [
    "plt.scatter(x,y, color = 'red')\n",
    "plt.xlabel(\"Year\")\n",
    "plt.ylabel(\"Population\")\n",
    "plt.show()"
   ]
  },
  {
   "cell_type": "code",
   "execution_count": 21,
   "id": "bcb46186",
   "metadata": {},
   "outputs": [
    {
     "name": "stdout",
     "output_type": "stream",
     "text": [
      "9950\n",
      "19800750\n",
      "34262.0\n",
      "17.2\n"
     ]
    }
   ],
   "source": [
    "sum_x = np.sum(x)\n",
    "sum_x2 = np.sum(x**2)\n",
    "sum_xy = np.sum(x*y)\n",
    "sum_y = np.sum(y)\n",
    "\n",
    "print(sum_x)\n",
    "print(sum_x2)\n",
    "print(sum_xy)\n",
    "print(sum_y)"
   ]
  },
  {
   "cell_type": "code",
   "execution_count": 22,
   "id": "575826ad",
   "metadata": {},
   "outputs": [
    {
     "name": "stdout",
     "output_type": "stream",
     "text": [
      "Slope: 0.136\n",
      "Y-intercept: -267.200\n"
     ]
    }
   ],
   "source": [
    "a = ((n*sum_xy)- (sum_x*sum_y))/(n*sum_x2 - (sum_x**2))\n",
    "b = (np.mean(y)) - a*(np.mean(x))\n",
    "print('Slope: %.3f' %a)\n",
    "print('Y-intercept: %.3f' %b)"
   ]
  },
  {
   "cell_type": "code",
   "execution_count": 23,
   "id": "4552c24a",
   "metadata": {},
   "outputs": [
    {
     "name": "stdout",
     "output_type": "stream",
     "text": [
      "Predicted values of population:\n",
      "[2.08 2.76 3.44 4.12 4.8 ]\n"
     ]
    }
   ],
   "source": [
    "y_pred = b+a*x\n",
    "print('Predicted values of population:')\n",
    "print(y_pred)"
   ]
  },
  {
   "cell_type": "code",
   "execution_count": 24,
   "id": "1e77d717",
   "metadata": {},
   "outputs": [
    {
     "data": {
      "text/plain": [
       "Text(0, 0.5, 'Population')"
      ]
     },
     "execution_count": 24,
     "metadata": {},
     "output_type": "execute_result"
    },
    {
     "data": {
      "image/png": "[encoded data removed]",
      "text/plain": [
       "<Figure size 432x288 with 1 Axes>"
      ]
     },
     "metadata": {
      "needs_background": "light"
     },
     "output_type": "display_data"
    }
   ],
   "source": [
    "plt.scatter(x,y,color = 'red')\n",
    "plt.plot(x,y_pred, color = 'green')\n",
    "plt.xlabel(\"Year\")\n",
    "plt.ylabel(\"Population\")"
   ]
  },
  {
   "cell_type": "code",
   "execution_count": 25,
   "id": "db747679",
   "metadata": {},
   "outputs": [
    {
     "name": "stdout",
     "output_type": "stream",
     "text": [
      "sum of squared total is 4.712\n"
     ]
    }
   ],
   "source": [
    "error = y - np.mean(y)\n",
    "sst = np.sum(error ** 2)\n",
    "print(\"sum of squared total is\", sst)"
   ]
  },
  {
   "cell_type": "code",
   "execution_count": 26,
   "id": "2190fc64",
   "metadata": {},
   "outputs": [
    {
     "name": "stdout",
     "output_type": "stream",
     "text": [
      "sum of squared error is 0.08800000000000907\n"
     ]
    }
   ],
   "source": [
    "error1 = y - y_pred\n",
    "sse = np.sum(error1 ** 2)\n",
    "print(\"sum of squared error is\", sse)"
   ]
  },
  {
   "cell_type": "code",
   "execution_count": 27,
   "id": "3dde8319",
   "metadata": {},
   "outputs": [
    {
     "name": "stdout",
     "output_type": "stream",
     "text": [
      "R squared: 98.132\n"
     ]
    }
   ],
   "source": [
    "#evaluating r^2 value\n",
    "r2=1-(sse/sst)\n",
    "print('R squared: %.3f' % (r2*100))"
   ]
  },
  {
   "cell_type": "code",
   "execution_count": 28,
   "id": "f36aba24",
   "metadata": {},
   "outputs": [],
   "source": [
    "def predictpopulation(x1):\n",
    "    return b + a*x1"
   ]
  },
  {
   "cell_type": "code",
   "execution_count": 29,
   "id": "dfc1f4b9",
   "metadata": {},
   "outputs": [
    {
     "name": "stdout",
     "output_type": "stream",
     "text": [
      "Enter a year2005\n",
      "5.479999999999961\n"
     ]
    }
   ],
   "source": [
    "d=int(input('Enter a year'))\n",
    "print(predictpopulation(d))"
   ]
  },
  {
   "cell_type": "code",
   "execution_count": null,
   "id": "dbb169e2",
   "metadata": {},
   "outputs": [],
   "source": []
  }
 ],
 "metadata": {
  "kernelspec": {
   "display_name": "Python 3",
   "language": "python",
   "name": "python3"
  },
  "language_info": {
   "codemirror_mode": {
    "name": "ipython",
    "version": 3
   },
   "file_extension": ".py",
   "mimetype": "text/x-python",
   "name": "python",
   "nbconvert_exporter": "python",
   "pygments_lexer": "ipython3",
   "version": "3.8.8"
  }
 },
 "nbformat": 4,
 "nbformat_minor": 5
}
